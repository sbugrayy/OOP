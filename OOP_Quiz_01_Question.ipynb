{
  "nbformat": 4,
  "nbformat_minor": 0,
  "metadata": {
    "colab": {
      "provenance": []
    },
    "kernelspec": {
      "name": "python3",
      "display_name": "Python 3"
    },
    "language_info": {
      "name": "python"
    }
  },
  "cells": [
    {
      "cell_type": "markdown",
      "source": [
        "**1. Sınıf Tanımlama ve Özellikler:**\n",
        "\n",
        "Soru 1: Aşağıdaki Python kodunda eksik olan kısımları doldurunuz. Bu kod, bir Ogrenci sınıfı oluşturarak her öğrencinin adını ve yaşını saklamalıdır."
      ],
      "metadata": {
        "id": "owCd-npLIjlq"
      }
    },
    {
      "cell_type": "code",
      "source": [
        "class Ogrenci:\n",
        "    def __init__(self, ___, ___):\n",
        "        self.___ = ___\n",
        "        self.___ = ___\n",
        "\n",
        "# Bir Ogrenci nesnesi oluşturun ve adını \"Ali\", yaşını \"20\" yapın.\n",
        "ogrenci1 = Ogrenci(___, ___)"
      ],
      "metadata": {
        "id": "rXjACaa7Leiy"
      },
      "execution_count": null,
      "outputs": []
    },
    {
      "cell_type": "markdown",
      "source": [
        "**2. Metod Tanımlama:**\n",
        "\n",
        "Soru 2: Aşağıdaki sınıfın bilgi_ver adında bir fonksiyonunu yazınız. Bu fonksiyon, öğrencinin adı ve yaşını ekrana bastırmalıdır."
      ],
      "metadata": {
        "id": "mwU0aDCgIlEr"
      }
    },
    {
      "cell_type": "code",
      "source": [
        "class Ogrenci:\n",
        "    def __init__(self, ad, yas):\n",
        "        self.ad = ad\n",
        "        self.yas = yas\n",
        "\n",
        "    # burada bir fonksiyon ekleyin\n"
      ],
      "metadata": {
        "id": "nfi5Pex5IlWH"
      },
      "execution_count": null,
      "outputs": []
    },
    {
      "cell_type": "markdown",
      "source": [
        "**3. Nesne Oluşturma:**\n",
        "\n",
        "Soru 3: Kitap adında bir sınıf oluşturunuz. Bu sınıfın her bir kitabın adı ve yazarını içermesi gerekmektedir. Ayrıca, kitap bilgilerini ekrana yazdıran bir metod tanımlayın. Ardından, en az iki kitap nesnesi oluşturun."
      ],
      "metadata": {
        "id": "5X8ID0P5IldP"
      }
    },
    {
      "cell_type": "code",
      "source": [
        "class Kitap:\n",
        "  def __init__(self,isim,yazar):\n",
        "    self.isim = isim\n",
        "    self.yazar = yazar\n",
        "  def yazdir(self):\n",
        "    print(\"kitap ismi : {} yazar ismi : {}\\n\".format(self.isim,self.yazar))\n",
        "\n",
        "kitap1 = Kitap(\"1984\",\"Geroge Orwell\")\n",
        "kitap2 = Kitap(\"Küçük Prens\",\"Antonie de Saint-Exupéry\")\n",
        "\n",
        "kitap1.yazdir()\n",
        "kitap2.yazdir()"
      ],
      "metadata": {
        "colab": {
          "base_uri": "https://localhost:8080/"
        },
        "id": "tu6fen3gIljN",
        "outputId": "a16f3398-6660-42f6-e41b-9c8f8ffb6127"
      },
      "execution_count": 1,
      "outputs": [
        {
          "output_type": "stream",
          "name": "stdout",
          "text": [
            "kitap ismi : 1984 yazar ismi : Geroge Orwell\n",
            "\n",
            "kitap ismi : Küçük Prens yazar ismi : Antonie de Saint-Exupéry\n",
            "\n"
          ]
        }
      ]
    },
    {
      "cell_type": "markdown",
      "source": [
        "**4. Deyim ve Öznitelikler:**\n",
        "\n",
        "Soru 4: Bir sınıfın özniteliklerine erişmek ve değiştirmek için bir metod yazınız. Araba adında bir sınıf tanımlayın, bu sınıf her bir arabanın markasını ve hızını saklasın. Araba hızını artırmak için bir metod oluşturun."
      ],
      "metadata": {
        "id": "7NU0HudxIlo3"
      }
    },
    {
      "cell_type": "code",
      "source": [
        "class Araba:\n",
        "  def __init__(self,marka,hiz):\n",
        "    self.marka = marka\n",
        "    self.hiz = hiz\n",
        "  def hizlandir(self,artiHiz:int):\n",
        "    self.hiz += artiHiz\n",
        "    print(self.marka,\"hızlandı. Yeni hız:\",self.hiz,\"km/s\")\n",
        "\n",
        "araba1 = Araba(\"BMW\",50)\n",
        "araba1.hizlandir(30)"
      ],
      "metadata": {
        "colab": {
          "base_uri": "https://localhost:8080/"
        },
        "id": "auMNvw-tIluO",
        "outputId": "6534a693-a107-487b-e32a-f4549ff1125d"
      },
      "execution_count": 2,
      "outputs": [
        {
          "output_type": "stream",
          "name": "stdout",
          "text": [
            "BMW hızlandı. Yeni hız: 80 km/s\n"
          ]
        }
      ]
    },
    {
      "cell_type": "markdown",
      "source": [
        "**1. Senaryo: Kütüphane Yönetim Sistemi**\n",
        "\n",
        "\n",
        "Bir kütüphane yönetim sistemi geliştirmek istiyorsunuz. Her kitabın adı, yazarı ve mevcut adet sayısı tutulmalı. Kullanıcılar kitap ödünç alabilecek ve kitap iade edebilecekler. Her işlem sonucunda kitap adedi güncellenmeli. Eğer ödünç alınmak istenen kitap yoksa kullanıcıya bunun mümkün olmadığı söylenmeli."
      ],
      "metadata": {
        "id": "jCYpTYLUIlzx"
      }
    },
    {
      "cell_type": "code",
      "source": [
        "class Kitap:\n",
        "  def __init__(self,isim,yazar,adet):\n",
        "    self.isim = isim\n",
        "    self.yazar = yazar\n",
        "    self.adet = adet\n",
        "\n",
        "  def ödünçAl(self, isim):\n",
        "    if self.isim == isim:\n",
        "      self.adet -= 1\n",
        "      print(self.isim,\"kitabını ödünç aldınız. Kalan adet:\",self.adet)\n",
        "\n",
        "    else:\n",
        "      print(\"Üzgünüz,\",isim,\"kitabı şu anda mevcut değil.\")\n",
        "\n",
        "  def iadeEt(self, isim):\n",
        "    if self.isim == isim:\n",
        "      self.adet += 1\n",
        "      print(self.isim,\"kitabını iade ettiniz. Güncel adet:\",self.adet)\n",
        "\n",
        "kitap1 = Kitap(\"1984\",\"Geroge Orwell\",5)\n",
        "kitap1.ödünçAl(\"1984\")\n",
        "kitap1.iadeEt(\"1984\")\n",
        "kitap1.ödünçAl(\"Küçük Prens\")"
      ],
      "metadata": {
        "id": "lZPvlrYjIl4v",
        "colab": {
          "base_uri": "https://localhost:8080/"
        },
        "outputId": "fdfbf5ca-65d8-4290-c65a-cea78a10a013"
      },
      "execution_count": 13,
      "outputs": [
        {
          "output_type": "stream",
          "name": "stdout",
          "text": [
            "1984 kitabını ödünç aldınız. Kalan adet: 4\n",
            "1984 kitabını iade ettiniz. Güncel adet: 5\n",
            "Üzgünüz, Küçük Prens kitabı şu anda mevcut değil\n"
          ]
        }
      ]
    },
    {
      "cell_type": "code",
      "source": [],
      "metadata": {
        "colab": {
          "base_uri": "https://localhost:8080/"
        },
        "id": "jcNjCUMVJ56V",
        "outputId": "10b2e083-17c0-4405-eab4-c90f1c1d2153"
      },
      "execution_count": null,
      "outputs": [
        {
          "output_type": "stream",
          "name": "stdout",
          "text": [
            "1984 kitabını ödünç aldınız. Kalan adet: 2\n",
            "Üzgünüz, Hayvan Çiftliği kitabı şu anda mevcut değil.\n",
            "1984 kitabını iade ettiniz. Güncel adet: 3\n"
          ]
        }
      ]
    },
    {
      "cell_type": "markdown",
      "source": [
        "**2. Senaryo: Otomobil Servis Sistemi**\n",
        "\n",
        "\n",
        "Bir otomobil servis sistemi tasarlıyorsunuz. Her arabanın markası, modeli ve kilometresi olmalı. Kullanıcı arabasını servise getirdiğinde kilometresi güncellenmeli ve bu bilgiyi takip edebilmelisiniz. Ayrıca, servise giren arabaların kaydını tutmalı ve bu kayıtları listeleyebilmelisiniz. (2 sınıf oluşturunuz)"
      ],
      "metadata": {
        "id": "ChvS2HrFImA7"
      }
    },
    {
      "cell_type": "code",
      "source": [
        "class Araba:\n",
        "  def __init__(self,marka,model,km):\n",
        "    self.marka = marka\n",
        "    self.model = model\n",
        "    self.km = km\n",
        "    print(self.marka,self.model,\"servise kaydedildi.\")\n",
        "\n",
        "  def kmGuncelle(self,km):\n",
        "    self.km += km\n",
        "\n",
        "    print(self.marka,self.model,\"servise getirildi. Güncel kilometre:\",self.km)\n",
        "\n",
        "class Servis:\n",
        "  def __init__(self,araba):\n",
        "    self.araba = araba\n",
        "\n",
        "  def servisListele(self):\n",
        "    print(\"Servise getirilen arabalar:\")\n",
        "    for urun in self.araba:\n",
        "      print(\"- \",urun.marka,urun.model,\", Kilometre:\",urun.km)\n",
        "\n",
        "araba1 = Araba(\"Toyota\",\"Corolla\",50500)\n",
        "araba2 = Araba(\"Ford\",\"Focus\",70000)\n",
        "araba1.kmGuncelle(10000)\n",
        "araba2.kmGuncelle(20000)\n",
        "\n",
        "servis = Servis([araba1,araba2])\n",
        "servis.servisListele()"
      ],
      "metadata": {
        "id": "Jw9YYK2jImGp",
        "colab": {
          "base_uri": "https://localhost:8080/"
        },
        "outputId": "1072d03b-0e4a-4d36-e713-28618e892546"
      },
      "execution_count": 4,
      "outputs": [
        {
          "output_type": "stream",
          "name": "stdout",
          "text": [
            "Toyota Corolla servise kaydedildi.\n",
            "Ford Focus servise kaydedildi.\n",
            "Toyota Corolla servise getirildi. Güncel kilometre: 60500\n",
            "Ford Focus servise getirildi. Güncel kilometre: 90000\n",
            "Servise getirilen arabalar:\n",
            "-  Toyota Corolla , Kilometre: 60500\n",
            "-  Ford Focus , Kilometre: 90000\n"
          ]
        }
      ]
    },
    {
      "cell_type": "code",
      "source": [],
      "metadata": {
        "colab": {
          "base_uri": "https://localhost:8080/"
        },
        "id": "9PFHiSyVKWEI",
        "outputId": "41fc313c-5dcf-4d4e-cf03-a64c7d93c5b5"
      },
      "execution_count": null,
      "outputs": [
        {
          "output_type": "stream",
          "name": "stdout",
          "text": [
            "Toyota Corolla servise kaydedildi.\n",
            "Ford Focus servise kaydedildi.\n",
            "Toyota Corolla servise getirildi. Güncel kilometre: 50500 km\n",
            "Servise getirilen arabalar:\n",
            "- Toyota Corolla, Kilometre: 50500 km\n",
            "- Ford Focus, Kilometre: 70000 km\n"
          ]
        }
      ]
    },
    {
      "cell_type": "markdown",
      "source": [
        "**3. Senaryo: Banka Hesap Yönetimi**\n",
        "\n",
        "Bir bankada hesap yönetim sistemi oluşturuyorsunuz. Her kullanıcının bir hesabı olacak ve hesap bakiyesi tutulacak. Kullanıcı para yatırabilecek ve para çekebilecek. Eğer kullanıcı bakiyesinden fazla para çekmeye çalışırsa, sistem buna izin vermemeli ve kullanıcıyı uyarmalı."
      ],
      "metadata": {
        "id": "ipL0GXlAImMg"
      }
    },
    {
      "cell_type": "code",
      "source": [
        "class Banka:\n",
        "  def __init__(self,isim,bakiye):\n",
        "    self.isim = isim\n",
        "    self.bakiye = bakiye\n",
        "  def paraYatir(self,yatir):\n",
        "    self.bakiye += yatir\n",
        "    print(yatir,\"TL yatırdınız. Güncel bakiyeniz:\",self.bakiye,\"TL\")\n",
        "\n",
        "  def paraCek(self,cek):\n",
        "    if self.bakiye < cek:\n",
        "      print(\"Yetersiz bakiye. Bakiyeniz:\",self.bakiye,\"TL\")\n",
        "    else:\n",
        "      self.bakiye -= cek\n",
        "      print(cek,\"TL çektiniz. Güncel bakiyeniz:\",self.bakiye,\"TL\")\n",
        "\n",
        "hesap1 = Banka(\"Ali\",1000)\n",
        "hesap1.paraYatir(500)\n",
        "hesap1.paraCek(2000)\n",
        "hesap1.paraCek(300)"
      ],
      "metadata": {
        "id": "F1WR-JLeImR7",
        "colab": {
          "base_uri": "https://localhost:8080/"
        },
        "outputId": "f84c7233-ae33-4a49-ee3d-6d89297ab166"
      },
      "execution_count": 7,
      "outputs": [
        {
          "output_type": "stream",
          "name": "stdout",
          "text": [
            "500 TL yatırdınız. Güncel bakiyeniz: 1500 TL\n",
            "Yetersiz bakiye. Bakiyeniz: 1500 TL\n",
            "300 TL çektiniz. Güncel bakiyeniz: 1200 TL\n"
          ]
        }
      ]
    },
    {
      "cell_type": "code",
      "source": [],
      "metadata": {
        "colab": {
          "base_uri": "https://localhost:8080/"
        },
        "id": "MNaym-AJKhgE",
        "outputId": "493dea6c-a616-4cf0-d4fe-129699e7dce4"
      },
      "execution_count": null,
      "outputs": [
        {
          "output_type": "stream",
          "name": "stdout",
          "text": [
            "500 TL yatırdınız. Güncel bakiyeniz: 1500 TL\n",
            "300 TL çektiniz. Güncel bakiyeniz: 1200 TL\n",
            "Yetersiz bakiye. Bakiyeniz: 1200 TL\n"
          ]
        }
      ]
    },
    {
      "cell_type": "markdown",
      "source": [
        "**4. Senaryo: Online Alışveriş Sepeti**\n",
        "\n",
        "Bir online alışveriş sistemi için bir sepet yönetim sistemi tasarlıyorsunuz. Kullanıcı, sepete ürün ekleyebilecek ve sepetindeki ürünleri listeleyebilecek. Her ürünün adı, fiyatı ve adedi tutulacak. Kullanıcı toplam tutarı görebilmeli. (2 sınıf oluşturunuz)"
      ],
      "metadata": {
        "id": "kDbBZjZ3ImWx"
      }
    },
    {
      "cell_type": "code",
      "source": [
        "class Sepet:\n",
        "  def __init__(self,isim,fiyat,adet):\n",
        "    self.isim = isim\n",
        "    self.fiyat = fiyat\n",
        "    self.adet = adet\n",
        "    print(self.isim,\"sepete eklendi.\")\n",
        "\n",
        "class Tutar:\n",
        "  def __init__(self,sepet):\n",
        "    self.sepet = sepet\n",
        "\n",
        "  def toplamTutar(self):\n",
        "    toplam = 0\n",
        "    for urun in self.sepet:\n",
        "      toplam += urun.fiyat * urun.adet\n",
        "    print(\"Toplam tutar:\",toplam,\"TL\")\n",
        "\n",
        "  def urunListele(self):\n",
        "    print(\"Sepetinizdeki ürünler:\")\n",
        "    for urun in self.sepet:\n",
        "      print(\"- \",urun.isim,\", Adet:\",urun.adet,\", Fiyat:\",urun.fiyat,\"TL\")\n",
        "\n",
        "sepet1 = Sepet(\"Telefon\",30000,5)\n",
        "sepet2 = Sepet(\"Kulaklık\",400,10)\n",
        "\n",
        "tutar1 = Tutar([sepet1,sepet2])\n",
        "tutar1.urunListele()\n",
        "tutar1.toplamTutar()"
      ],
      "metadata": {
        "id": "wnJig9JwKm6U",
        "colab": {
          "base_uri": "https://localhost:8080/"
        },
        "outputId": "95900c2a-eb66-489c-c110-b6fa49a27f48"
      },
      "execution_count": 8,
      "outputs": [
        {
          "output_type": "stream",
          "name": "stdout",
          "text": [
            "Telefon sepete eklendi.\n",
            "Kulaklık sepete eklendi.\n",
            "Sepetinizdeki ürünler:\n",
            "-  Telefon , Adet: 5 , Fiyat: 30000 TL\n",
            "-  Kulaklık , Adet: 10 , Fiyat: 400 TL\n",
            "Toplam tutar: 154000 TL\n"
          ]
        }
      ]
    },
    {
      "cell_type": "code",
      "source": [],
      "metadata": {
        "colab": {
          "base_uri": "https://localhost:8080/"
        },
        "id": "PPh8hl_DLICq",
        "outputId": "4a745623-b771-4edc-dd16-cd3963cd9e8f"
      },
      "execution_count": null,
      "outputs": [
        {
          "output_type": "stream",
          "name": "stdout",
          "text": [
            "Telefon sepete eklendi.\n",
            "Kulaklık sepete eklendi.\n",
            "Sepetinizdeki ürünler:\n",
            "- Telefon, Adet: 1, Fiyat: 5000 TL\n",
            "- Kulaklık, Adet: 2, Fiyat: 300 TL\n",
            "Toplam tutar: 5600 TL\n"
          ]
        }
      ]
    }
  ]
}