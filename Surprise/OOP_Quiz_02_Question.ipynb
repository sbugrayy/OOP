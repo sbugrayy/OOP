{
  "nbformat": 4,
  "nbformat_minor": 0,
  "metadata": {
    "colab": {
      "provenance": []
    },
    "kernelspec": {
      "name": "python3",
      "display_name": "Python 3"
    },
    "language_info": {
      "name": "python"
    }
  },
  "cells": [
    {
      "cell_type": "markdown",
      "source": [
        "1. Abstract (Soyut Sınıflar ve Metotlar)\n",
        "\n",
        "Soru:\n",
        "\n",
        "Bir Shape adlı soyut sınıf oluşturun. Bu sınıfta bir calculate_area() adlı soyut metot tanımlayın. Ardından, Rectangle (Dikdörtgen) ve Circle (Daire) adlı sınıfları oluşturup Shape sınıfından türetin. Her bir sınıfta calculate_area() metodunu override (ezerek) kullanarak alan hesaplamasını gerçekleştirin. Son olarak, birer nesne oluşturup alanlarını ekrana yazdırın."
      ],
      "metadata": {
        "id": "HNppuqo8YTwl"
      }
    },
    {
      "cell_type": "code",
      "execution_count": 6,
      "metadata": {
        "id": "8FJ4IRI0YQKT",
        "colab": {
          "base_uri": "https://localhost:8080/"
        },
        "outputId": "e5fbe7b4-35b1-4ed0-ea94-55703ba66ca6"
      },
      "outputs": [
        {
          "output_type": "stream",
          "name": "stdout",
          "text": [
            "Dikdörtgen Alanı: 50\n",
            "Daire Alanı: 153.93791\n"
          ]
        }
      ],
      "source": [
        "class Shape:\n",
        "    def calculate_area(self):\n",
        "        pass\n",
        "\n",
        "class Rectangle(Shape):\n",
        "    def __init__(self, width, height):\n",
        "        self.width = width\n",
        "        self.height = height\n",
        "\n",
        "    def calculate_area(self):\n",
        "        return self.width * self.height\n",
        "\n",
        "class Circle(Shape):\n",
        "    def __init__(self, radius):\n",
        "        self.radius = radius\n",
        "\n",
        "    def calculate_area(self):\n",
        "        return 3.14159 * self.radius ** 2\n",
        "\n",
        "r = Rectangle(5, 10)\n",
        "print(\"Dikdörtgen Alanı:\",r.calculate_area())\n",
        "\n",
        "c = Circle(7)\n",
        "print(\"Daire Alanı:\",c.calculate_area())"
      ]
    },
    {
      "cell_type": "markdown",
      "source": [
        "2. Inheritance (Kalıtım)\n",
        "\n",
        "Soru:\n",
        "\n",
        "Bir Person sınıfı oluşturun. Bu sınıfta name ve age adlı özellikler ve bir introduce() metodu bulunsun. Ardından Employee adında bir sınıf oluşturup Person sınıfından türetin. Employee sınıfına job_title (meslek) adlı bir özellik ekleyin ve introduce() metodunu override ederek kişinin ismini, yaşını ve mesleğini ekrana yazdırmasını sağlayın. Son olarak, bir Employee nesnesi oluşturup introduce() metodunu kullanın."
      ],
      "metadata": {
        "id": "Z_Xys35aYhWI"
      }
    },
    {
      "cell_type": "code",
      "source": [
        "class Person:\n",
        "    def __init__(self, name, age):\n",
        "        self.name = name\n",
        "        self.age = age\n",
        "\n",
        "    def introduce(self):\n",
        "        print(f\"My name is {self.name}, and I am {self.age} years old.\")\n",
        "\n",
        "class Employee(Person):\n",
        "    def __init__(self, name, age, job_title):\n",
        "        super().__init__(name, age)\n",
        "        self.job_title = job_title\n",
        "\n",
        "e = Employee(\"Buğra Yıldırım\", 30, \"Game Software Engineer\")\n",
        "e.introduce()"
      ],
      "metadata": {
        "id": "BrWWBtQTYcNs"
      },
      "execution_count": null,
      "outputs": []
    },
    {
      "cell_type": "code",
      "source": [
        "\n",
        "\n",
        "\n",
        "\n",
        "\n"
      ],
      "metadata": {
        "colab": {
          "base_uri": "https://localhost:8080/"
        },
        "id": "Nd_ImQ0iYcYU",
        "outputId": "8a1aec97-4cae-40f0-9aa9-6b3a434abe2b"
      },
      "execution_count": null,
      "outputs": [
        {
          "output_type": "stream",
          "name": "stdout",
          "text": [
            "Hi, my name is Alice, I am 30 years old, and I work as a Software Engineer.\n"
          ]
        }
      ]
    },
    {
      "cell_type": "markdown",
      "source": [
        "3. Polymorphism (Çok Biçimlilik)\n",
        "\n",
        "Soru:\n",
        "\n",
        "Bir Animal adlı sınıf oluşturun. Bu sınıfta speak() adlı bir metot tanımlayın. Ardından Dog ve Cat adlı sınıfları oluşturup Animal sınıfından türetin. Her bir alt sınıfta speak() metodunu override ederek köpek için \"Woof!\" ve kedi için \"Meow!\" çıktısını verin. Son olarak, bir Animal listesi oluşturup polimorfizmi kullanarak her bir hayvanın speak() metodunu çağırın.\n",
        "\n"
      ],
      "metadata": {
        "id": "BEQ4RJTfYsoD"
      }
    },
    {
      "cell_type": "code",
      "source": [
        "\n",
        "\n",
        "\n",
        "\n",
        "\n",
        "\n",
        "\n"
      ],
      "metadata": {
        "id": "AyUVkfG2Ycgc"
      },
      "execution_count": null,
      "outputs": []
    },
    {
      "cell_type": "code",
      "source": [
        "\n",
        "\n",
        "\n",
        "\n",
        "\n",
        "\n",
        "\n",
        "\n",
        "\n",
        "\n",
        "\n"
      ],
      "metadata": {
        "colab": {
          "base_uri": "https://localhost:8080/"
        },
        "id": "lIdt3zAXYcjK",
        "outputId": "6b6ea97d-4587-4cc6-836d-212a61d29c76"
      },
      "execution_count": null,
      "outputs": [
        {
          "output_type": "stream",
          "name": "stdout",
          "text": [
            "Woof!\n",
            "Meow!\n",
            "Woof!\n",
            "Meow!\n"
          ]
        }
      ]
    }
  ]
}