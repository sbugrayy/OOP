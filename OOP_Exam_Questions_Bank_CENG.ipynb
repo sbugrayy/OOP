{
  "nbformat": 4,
  "nbformat_minor": 0,
  "metadata": {
    "colab": {
      "provenance": [],
      "include_colab_link": true
    },
    "kernelspec": {
      "name": "python3",
      "display_name": "Python 3"
    },
    "language_info": {
      "name": "python"
    }
  },
  "cells": [
    {
      "cell_type": "markdown",
      "metadata": {
        "id": "view-in-github",
        "colab_type": "text"
      },
      "source": [
        "<a href=\"https://colab.research.google.com/github/sbugrayy/OOP/blob/main/OOP_Exam_Questions_Bank_CENG.ipynb\" target=\"_parent\"><img src=\"https://colab.research.google.com/assets/colab-badge.svg\" alt=\"Open In Colab\"/></a>"
      ]
    },
    {
      "cell_type": "markdown",
      "source": [
        "# **OOP Uygulama Sınavı II Soruları ve Uygulama Sınav Yönergesi**\n",
        "\n",
        "*   ilk 4 soru 15 puan olup, son soru 40 puandır.\n",
        "*   **Lütfen soruları bireysel çözünüz**, haliyle işin içerisinde algoritma olduğu için her sorunun birden fazla çözüm yolu bulunmaktadır. Nasıl yorumlayacağınız ve senaryoları nasıl kurgulayacağınız tamamen size aittir.\n",
        "*   Lütfen soruları cevaplamak için soruların altındaki hücreleri kullanınız, hücrelere ekleme veya çıkartma işlemi yapabilirsiniz. Hücre altlarındaki ekran çıktılarına dikkat ediniz, size uygulamanın akışı hakkında yardımcı olacaktır. Bazı sorular senaryo gereği temel programlama kodları olan **if, for ve listeleme** gibi yapılara sahip olacaktır.\n",
        "*   **Son soruyu notebook üzerinde çözümünü yaptıktan sonra lütfen birebir olacak şekilde A4 kağıdında (tek sayfa) da çözünüz ve sınav gün ve saatinde bu kağıdı teslim etmeye geliniz.** Sınav yoklama listesine imzanızı atmayı unutmayınız. Kağıda isminiz, soyisminiz ve öğrenci numaranızı yazmayı ve imza atmayı unutmayınız.\n",
        "*   **Yoklama listesine imza atmayan kişi, uygulamayı sisteme yüklemiş olsa dahi sınavı geçersiz sayılacaktır.** Aynı zamanda devamsızlıktan kalan kişiler projelerini teslim etmiş olsalar bile final notundan devamsızdır şeklinde işaretlenecektir.\n",
        "*   **IPYNB** notebook'unu sisteme yüklerken lütfen **isim-soyisim-ogrencino.ipynb** şeklinde isimlendiriniz.\n",
        "*   Ödevi sisteme yüklemek için son teslim tarihi 29.12.2024 23:59'dur Sınav süresi bittiğinde, sistemde dosya yükleme işlemi kapatılacak olup sistem haricinde hiç bir şekilde başka bir platformdan dosyalar kabul edilmeyecektir.\n",
        "*   Sınav süresi boyunca aklınıza takılan soruları arşivlenmesi amacıyla teams yoluyla kabul edeceğim : sevdanur.genc@balikesir.edu.tr . Harici iletişim kanallarından gelen sorular kabul edilmeyecek ve herhangi bir geri dönüş yapılmayacaktır.\n",
        "\n",
        "Başarılar dilerim.  \n",
        "Dr. Öğr. Üyesi Sevdanur GENÇ\n",
        "\n",
        "\n",
        "\n",
        "\n"
      ],
      "metadata": {
        "id": "ona2wQ6IZ0UR"
      }
    },
    {
      "cell_type": "markdown",
      "source": [
        "**1.Soru (Abstract)**\n",
        "\n",
        "Bir müzik enstrümanı kiralama sistemi tasarlıyorsunuz. Sistemde çeşitli enstrüman türleri bulunmaktadır: Piyano, Gitar ve Keman.\n",
        "Her enstrümanın haftalık kiralama ücreti farklıdır ve sistem bu ücreti hesaplamalıdır.\n",
        "Aşağıdaki gereksinimleri karşılayın:\n",
        "\n",
        "1. Enstruman adında bir abstract sınıf oluşturun. Bu sınıfta enstrümanın adı ve türü tutulmalı, ayrıca bir abstract metot olan kiralama_ucreti bulunmalıdır.\n",
        "\n",
        "2. Piyano, Gitar ve Keman sınıfları Enstruman sınıfından türetilmelidir. Her sınıf kendi kiralama ücretini hesaplamalıdır:\n",
        "\n",
        "Piyano: Haftalık ücreti 1000 TL.\n",
        "\n",
        "Gitar: Haftalık ücreti 500 TL.\n",
        "\n",
        "Keman: Haftalık ücreti 300 TL.\n",
        "\n",
        "Bir main metodu ile her enstrümanın 3 hafta kiralandığında toplam ücretlerini hesaplayın."
      ],
      "metadata": {
        "id": "MueoNLejaa_9"
      }
    },
    {
      "cell_type": "code",
      "source": [
        "from abc import ABC, abstractmethod\n",
        "\n",
        "class Enstruman(ABC):\n",
        "    def __init__(self, ad, tur):\n",
        "        self.ad = ad\n",
        "        self.tur = tur\n",
        "\n",
        "    @abstractmethod\n",
        "    def kiralama_ucreti(self, hafta):\n",
        "        pass\n",
        "\n",
        "class Piyano(Enstruman):\n",
        "    def __init__(self, ad, tur):\n",
        "        super().__init__(ad, tur)\n",
        "\n",
        "    def kiralama_ucreti(self, hafta):\n",
        "        return 1000 * hafta\n",
        "\n",
        "class Gitar(Enstruman):\n",
        "    def __init__(self, ad, tur):\n",
        "        super().__init__(ad, tur)\n",
        "\n",
        "    def kiralama_ucreti(self, hafta):\n",
        "        return 500 * hafta\n",
        "\n",
        "class Keman(Enstruman):\n",
        "    def __init__(self, ad, tur):\n",
        "        super().__init__(ad, tur)\n",
        "\n",
        "    def kiralama_ucreti(self, hafta):\n",
        "        return 300 * hafta\n",
        "\n",
        "\n",
        "piyano = Piyano(\"Yamaha\", \"Piyano\")\n",
        "gitar = Gitar(\"Ibanez\", \"Gitar\")\n",
        "keman = Keman(\"Stentor\", \"Keman\")\n",
        "\n",
        "hafta = 3\n",
        "for enstruman in [piyano, gitar, keman]:\n",
        "    print(f\"{enstruman.ad} ({enstruman.tur}) - {hafta} Haftalık Ücret: {enstruman.kiralama_ucreti(hafta)} TL\")\n",
        "\n"
      ],
      "metadata": {
        "id": "gHWFpLJBacKT",
        "colab": {
          "base_uri": "https://localhost:8080/"
        },
        "outputId": "0ebc6e7a-ec50-473a-a52d-77ce71d430d5"
      },
      "execution_count": null,
      "outputs": [
        {
          "output_type": "stream",
          "name": "stdout",
          "text": [
            "Yamaha (Piyano) - 3 Haftalık Ücret: 3000 TL\n",
            "Ibanez (Gitar) - 3 Haftalık Ücret: 1500 TL\n",
            "Stentor (Keman) - 3 Haftalık Ücret: 900 TL\n"
          ]
        }
      ]
    },
    {
      "cell_type": "code",
      "source": [
        "# Kullanım"
      ],
      "metadata": {
        "colab": {
          "base_uri": "https://localhost:8080/"
        },
        "id": "b8A3sQqna5MO",
        "outputId": "43204706-a502-4d62-9ee6-9f62486c7d19"
      },
      "execution_count": null,
      "outputs": [
        {
          "output_type": "stream",
          "name": "stdout",
          "text": [
            "Yamaha (Piyano): 3 hafta kiralama ücreti 3000 TL\n",
            "Fender (Gitar): 3 hafta kiralama ücreti 1500 TL\n",
            "Stradivarius (Keman): 3 hafta kiralama ücreti 900 TL\n"
          ]
        }
      ]
    },
    {
      "cell_type": "markdown",
      "source": [
        "**2.Soru (Inheritance (Kalıtım))**\n",
        "\n",
        "Bir araç kiralama şirketi için bir sistem tasarlıyorsunuz. Şirketin hem otomobilleri hem de kamyonetleri bulunmaktadır.\n",
        "\n",
        "Araçların ortak özellikleri şunlardır: plaka numarası, model yılı ve yakıt türü.\n",
        "\n",
        "Otomobiller, yakıt tüketimi için kilometre başına bir ücret hesaplar.\n",
        "\n",
        "Kamyonetler ise ek olarak taşıma kapasitesine göre günlük ücret ekler.\n",
        "\n",
        "Gereksinimler:\n",
        "\n",
        "1. Arac adlı bir temel sınıf oluşturun ve bu ortak özellikleri tanımlayın.\n",
        "2. Otomobil ve Kamyonet sınıflarını türetin:\n",
        "\n",
        "Otomobil: Kilometre başına 2 TL ücret alır.\n",
        "\n",
        "Kamyonet: Günlük ücret 100 TL + taşıma kapasitesi başına günlük ek ücret 10 TL'dir.\n",
        "\n",
        "Bir otomobil (2020 model) ve bir kamyonet (2018 model, 5 ton kapasiteli) için ücretleri hesaplayın:\n",
        "\n",
        "Otomobil: 150 km yol yapmış.\n",
        "\n",
        "Kamyonet: 3 gün kiralanmış."
      ],
      "metadata": {
        "id": "aUmkVLbAabfS"
      }
    },
    {
      "cell_type": "code",
      "source": [
        "class Arac:\n",
        "    def __init__(self, plaka, model_yil, yakit_turu):\n",
        "        self.plaka = plaka\n",
        "        self.model_yil = model_yil\n",
        "        self.yakit_turu = yakit_turu\n",
        "\n",
        "class Otomobil(Arac):\n",
        "    def __init__(self, plaka, model_yil, yakit_turu):\n",
        "        super().__init__(plaka, model_yil, yakit_turu)\n",
        "\n",
        "    def ucret_hesapla(self, km):\n",
        "        return km * 2\n",
        "\n",
        "class Kamyonet(Arac):\n",
        "    def __init__(self, plaka, model_yil, yakit_turu, tasima_kapasitesi):\n",
        "        super().__init__(plaka, model_yil, yakit_turu)\n",
        "        self.tasima_kapasitesi = tasima_kapasitesi\n",
        "\n",
        "    def ucret_hesapla(self, gun):\n",
        "        return (100 * gun) + (self.tasima_kapasitesi * 10 * gun)\n",
        "\n",
        "otomobil = Otomobil(\"40LA220\", 2020, \"Dizel\")\n",
        "kamyonet = Kamyonet(\"06PB375\", 2018, \"Benzin\", 5)\n",
        "\n",
        "otomobil_km = 150\n",
        "kamyonet_gun = 3\n",
        "\n",
        "otomobil_ucret = otomobil.ucret_hesapla(otomobil_km)\n",
        "kamyonet_ucret = kamyonet.ucret_hesapla(kamyonet_gun)\n",
        "\n",
        "print(f\"Otomobil Ücreti: {otomobil_ucret} TL\")\n",
        "print(f\"Kamyonet Ücreti: {kamyonet_ucret} TL\")"
      ],
      "metadata": {
        "id": "RtkqXHr0aeCw",
        "colab": {
          "base_uri": "https://localhost:8080/"
        },
        "outputId": "53f7b95e-b097-43aa-85d0-898049686311"
      },
      "execution_count": null,
      "outputs": [
        {
          "output_type": "stream",
          "name": "stdout",
          "text": [
            "Otomobil Ücreti: 300 TL\n",
            "Kamyonet Ücreti: 450 TL\n"
          ]
        }
      ]
    },
    {
      "cell_type": "code",
      "source": [
        "# Kullanım"
      ],
      "metadata": {
        "colab": {
          "base_uri": "https://localhost:8080/"
        },
        "id": "X1cStmSDbHXa",
        "outputId": "9d9ef83c-bf8d-4976-e7e4-ed750f6dbb9b"
      },
      "execution_count": null,
      "outputs": [
        {
          "output_type": "stream",
          "name": "stdout",
          "text": [
            "Otomobil ücreti: 300 TL\n",
            "Kamyonet ücreti: 450 TL\n"
          ]
        }
      ]
    },
    {
      "cell_type": "markdown",
      "source": [
        "**3.Soru (Polymorphism (Çok Biçimlilik))**\n",
        "\n",
        "Bir hayvanat bahçesi yönetim sistemi oluşturuyorsunuz. Hayvanların günlük bakım maliyetlerini hesaplamak istiyorsunuz.\n",
        "Sistemde 3 hayvan türü bulunmaktadır: Aslan, Fil ve Maymun.\n",
        "Her hayvan türünün günlük bakım maliyeti farklıdır:\n",
        "\n",
        "Aslan: 200 TL\n",
        "\n",
        "Fil: 300 TL\n",
        "\n",
        "Maymun: 50 TL\n",
        "\n",
        "Her hayvan bir goster_bilgi fonksiyonuna sahiptir ve türüne göre farklı bilgi gösterir:\n",
        "\n",
        "Aslan: \"Aslan kükredi!\"\n",
        "\n",
        "Fil: \"Fil hortumuyla su püskürttü!\"\n",
        "\n",
        "Maymun: \"Maymun bir ağaca tırmandı!\"\n",
        "\n",
        "Hayvanların listesini tutarak çok biçimlilik sayesinde tüm hayvanların bakım maliyetlerini ve tür bilgilerini ekrana yazdırın.\n",
        "\n"
      ],
      "metadata": {
        "id": "lwl7PPI2bPkk"
      }
    },
    {
      "cell_type": "code",
      "source": [
        "class Hayvan:\n",
        "    def __init__(self, ad, tur):\n",
        "        self.ad = ad\n",
        "        self.tur = tur\n",
        "\n",
        "    def goster_bilgi(self):\n",
        "        pass\n",
        "\n",
        "    def get_bakim_maliyeti(self):\n",
        "        pass\n",
        "\n",
        "class Aslan(Hayvan):\n",
        "    def __init__(self, ad, tur):\n",
        "        super().__init__(ad, tur)\n",
        "\n",
        "    def goster_bilgi(self):\n",
        "        return f\"{self.ad} : Aslan kükredi!\"\n",
        "\n",
        "    def get_bakim_maliyeti(self):\n",
        "        return 200\n",
        "\n",
        "class Fil(Hayvan):\n",
        "    def __init__(self, ad, tur):\n",
        "        super().__init__(ad, tur)\n",
        "\n",
        "    def goster_bilgi(self):\n",
        "        return f\"{self.ad} : Fil hortumuyla su püskürttü!\"\n",
        "\n",
        "    def get_bakim_maliyeti(self):\n",
        "        return 300\n",
        "\n",
        "class Maymun(Hayvan):\n",
        "    def __init__(self, ad, tur):\n",
        "        super().__init__(ad, tur)\n",
        "\n",
        "    def goster_bilgi(self):\n",
        "        return f\"{self.ad} : Maymun bir ağaca tırmandı!\"\n",
        "\n",
        "    def get_bakim_maliyeti(self):\n",
        "        return 50\n",
        "\n",
        "hayvanlar = [Aslan(\"Alex\", \"Aslan\"), Fil(\"Bella\", \"Fil\"), Maymun(\"Julien\", \"Maymun\")]\n",
        "\n",
        "toplam_bakim_maliyeti = 0\n",
        "\n",
        "for hayvan in hayvanlar:\n",
        "    print(hayvan.goster_bilgi())\n",
        "    toplam_bakim_maliyeti += hayvan.get_bakim_maliyeti()\n",
        "\n",
        "print(f\"Hayvanat bahçesinin toplam günlük bakım maliyeti: {toplam_bakim_maliyeti} TL\")"
      ],
      "metadata": {
        "id": "I2-8NGRHbP8a",
        "colab": {
          "base_uri": "https://localhost:8080/"
        },
        "outputId": "14707af5-cac6-46c1-fa66-49774f3dbe08"
      },
      "execution_count": null,
      "outputs": [
        {
          "output_type": "stream",
          "name": "stdout",
          "text": [
            "Alex : Aslan kükredi!\n",
            "Bella : Fil hortumuyla su püskürttü!\n",
            "Julien : Maymun bir ağaca tırmandı!\n",
            "Hayvanat bahçesinin toplam günlük bakım maliyeti: 550 TL\n"
          ]
        }
      ]
    },
    {
      "cell_type": "code",
      "source": [
        "# Kullanım"
      ],
      "metadata": {
        "colab": {
          "base_uri": "https://localhost:8080/"
        },
        "id": "cp3vH1SxbWkS",
        "outputId": "db65890b-44ed-470a-934b-f566304d6417"
      },
      "execution_count": null,
      "outputs": [
        {
          "output_type": "stream",
          "name": "stdout",
          "text": [
            "Simba: Aslan kükredi!\n",
            "Dumbo: Fil hortumuyla su püskürttü!\n",
            "George: Maymun bir ağaca tırmandı!\n",
            "Hayvanat bahçesinin toplam günlük bakım maliyeti: 550 TL\n"
          ]
        }
      ]
    },
    {
      "cell_type": "markdown",
      "source": [
        "**4.Soru (Kapsülleme (Encapsulation))**\n",
        "\n",
        "Bir e-ticaret sistemi tasarlıyorsunuz. Sistem, müşteri bilgilerini ve sipariş bilgilerini tutar. Aşağıdaki gereksinimleri karşılayan bir uygulama geliştirin:\n",
        "\n",
        "1. Musteri adında bir sınıf oluşturun. Bu sınıf aşağıdaki özel (private) özelliklere sahiptir:\n",
        "\n",
        "ad: Müşterinin adı\n",
        "\n",
        "email: Müşterinin e-posta adresi\n",
        "\n",
        "bakiye: Müşterinin bakiyesi\n",
        "\n",
        "2. Müşterinin bu özelliklerine doğrudan erişim engellenmelidir.\n",
        "Bunun yerine:\n",
        "\n",
        "ad ve email özelliklerini okumak için getter metotları oluşturun.\n",
        "bakiye özelliğini sadece artırmak için bir bakiye_ekle metodu yazın.\n",
        "\n",
        "3. Ayrıca, bir siparis_ver metodu oluşturun. Bu metodun işlevi:\n",
        "\n",
        "Ürün fiyatı, müşterinin bakiyesinden fazla ise \"Bakiye yetersiz!\" mesajı döndürmek.\n",
        "Aksi takdirde, bakiyeyi düşürüp \"Sipariş başarıyla tamamlandı!\" mesajını döndürmek.\n",
        "\n",
        "4. Bir müşteri oluşturun, bakiyesini artırın, ardından iki farklı ürün için sipariş vermeyi deneyin.\n",
        "\n"
      ],
      "metadata": {
        "id": "CWrYmXQYbZFd"
      }
    },
    {
      "cell_type": "code",
      "source": [
        "class Musteri:\n",
        "    def __init__(self, ad, email, bakiye = 0):\n",
        "        self.__ad = ad\n",
        "        self.__email = email\n",
        "        self.__bakiye = bakiye\n",
        "\n",
        "    def get_ad(self):\n",
        "        return self.__ad\n",
        "\n",
        "    def get_email(self):\n",
        "        return self.__email\n",
        "\n",
        "    def bakiye_ekle(self, miktar):\n",
        "        self.__bakiye += miktar\n",
        "        print(f\"{miktar} TL eklendi. Güncel bakiye: {self.__bakiye} TL\")\n",
        "\n",
        "    def siparis_ver(self, urun_fiyati):\n",
        "        if self.__bakiye >= urun_fiyati:\n",
        "            self.__bakiye -= urun_fiyati\n",
        "            print(f\"Sipariş başarıyla tamamlandı! Kalan bakiye : {self.__bakiye} TL\")\n",
        "        else:\n",
        "            print(\"Bakiye yetersiz!\")\n",
        "\n",
        "musteri = Musteri(\"Buğra Yıldırım\",\"bugra@example.com\",100)\n",
        "\n",
        "print(\"Müşteri Adı:\", musteri.get_ad())\n",
        "print(\"Müşteri E-posta:\", musteri.get_email())\n",
        "musteri.bakiye_ekle(200)\n",
        "musteri.siparis_ver(250)\n",
        "musteri.siparis_ver(100)"
      ],
      "metadata": {
        "id": "4CGBwpShbZW9",
        "colab": {
          "base_uri": "https://localhost:8080/"
        },
        "outputId": "2ef3b9c2-d4b2-4fdc-ce38-797d19dc6c34"
      },
      "execution_count": 1,
      "outputs": [
        {
          "output_type": "stream",
          "name": "stdout",
          "text": [
            "Müşteri Adı: Buğra Yıldırım\n",
            "Müşteri E-posta: bugra@example.com\n",
            "200 TL eklendi. Güncel bakiye: 300 TL\n",
            "Sipariş başarıyla tamamlandı! Kalan bakiye : 50 TL\n",
            "Bakiye yetersiz!\n"
          ]
        }
      ]
    },
    {
      "cell_type": "code",
      "source": [
        "# Kullanım\n",
        "\n",
        "# Müşteri bilgilerini okuyalım\n",
        "\n",
        "# Bakiye ekleme\n",
        "                                   # 200 TL ekleyelim\n",
        "\n",
        "# Siparişler\n",
        "                                   # 250 TL'lik ürün\n",
        "                                   # 100 TL'lik ürün"
      ],
      "metadata": {
        "colab": {
          "base_uri": "https://localhost:8080/"
        },
        "id": "IKWp76FNcBd_",
        "outputId": "5f978515-cbf4-494d-dea7-2b7f56344f14"
      },
      "execution_count": null,
      "outputs": [
        {
          "output_type": "stream",
          "name": "stdout",
          "text": [
            "Müşteri Adı: Ahmet Yılmaz\n",
            "Müşteri E-posta: ahmet@example.com\n",
            "200 TL eklendi. Güncel bakiye: 300 TL\n",
            "Sipariş başarıyla tamamlandı! Kalan bakiye: 50 TL\n",
            "Bakiye yetersiz!\n"
          ]
        }
      ]
    },
    {
      "cell_type": "markdown",
      "source": [
        "**5.Soru:**\n",
        "\n",
        "Bir otel yönetim sistemi tasarlıyorsunuz. Otelde iki tür oda bulunmaktadır: Standart Oda ve Suit Oda. Her iki oda türü de farklı şekillerde ücretlendirilir:\n",
        "\n",
        "Standart Oda: Günlük sabit bir ücret üzerinden hesaplanır.\n",
        "\n",
        "Suit Oda: Günlük ücret + ekstra kişi başı ücret üzerinden hesaplanır.\n",
        "\n",
        "Yönetim sistemi şu gereksinimleri karşılamalıdır:\n",
        "\n",
        "1. Oda için bir Oda adlı abstract sınıf oluşturun. Bu sınıf her odanın numarasını (oda_no) ve günlük ücretini (gunluk_ucret) içermelidir. Ayrıca, toplam ücret hesaplama fonksiyonu (toplam_ucret) abstract bir metot olmalıdır.\n",
        "\n",
        "2. StandartOda ve SuitOda sınıfları, Oda sınıfından türetilmelidir. Her iki sınıf da toplam_ucret metodunu kendilerine uygun şekilde implement etmelidir.\n",
        "\n",
        "3. Otel sınıfı, odaların listesini tutmalı ve toplam gelirini hesaplamalıdır.\n",
        "Bir otel için aşağıdaki senaryoyu simüle edin:\n",
        "\n",
        "2 adet Standart Oda (Oda No: 101 ve 102) ve 1 adet Suit Oda (Oda No: 201, ekstra kişi başı ücret: 50 TL) tanımlayın.\n",
        "\n",
        "Oda kiralamalarını simüle edin:\n",
        "\n",
        "Oda 101: 3 gün kiralanmış.\n",
        "\n",
        "Oda 102: 2 gün kiralanmış.\n",
        "\n",
        "Oda 201: 4 gün kiralanmış, 3 kişi konaklamış.\n",
        "\n",
        "Otelin toplam gelirini hesaplayın."
      ],
      "metadata": {
        "id": "B_V-FL9saBFK"
      }
    },
    {
      "cell_type": "code",
      "source": [
        "from abc import ABC, abstractmethod\n",
        "\n",
        "class Oda(ABC):\n",
        "    def __init__(self, oda_no, gunluk_ucret):\n",
        "        self.oda_no = oda_no\n",
        "        self.gunluk_ucret = gunluk_ucret\n",
        "\n",
        "    @abstractmethod\n",
        "    def toplam_ucret(self, gun, kisi=1):\n",
        "        pass\n",
        "\n",
        "class StandartOda(Oda):\n",
        "    def toplam_ucret(self, gun, kisi=1):\n",
        "        return self.gunluk_ucret * gun\n",
        "\n",
        "class SuitOda(Oda):\n",
        "    def __init__(self, oda_no, gunluk_ucret, ekstra_ucret):\n",
        "        super().__init__(oda_no, gunluk_ucret)\n",
        "        self.ekstra_ucret = ekstra_ucret\n",
        "\n",
        "    def toplam_ucret(self, gun, kisi):\n",
        "        return (self.gunluk_ucret * gun) + (self.ekstra_ucret * (kisi - 1) * gun)\n",
        "\n",
        "class Otel:\n",
        "    def __init__(self):\n",
        "        self.odalar = []\n",
        "\n",
        "    def oda_ekle(self, oda):\n",
        "        self.odalar.append(oda)\n",
        "\n",
        "    def toplam_gelir_hesapla(self, kiralama_bilgileri):\n",
        "        toplam_gelir = 0\n",
        "        for kiralama in kiralama_bilgileri:\n",
        "            oda_no = kiralama['oda_no']\n",
        "            gun = kiralama['gun']\n",
        "            kisi = kiralama.get('kisi', 1)\n",
        "\n",
        "            for oda in self.odalar:\n",
        "                if oda.oda_no == oda_no:\n",
        "                  toplam_gelir += oda.toplam_ucret(gun, kisi)\n",
        "                  break\n",
        "        return toplam_gelir\n",
        "\n",
        "\n",
        "oda_101 = StandartOda(oda_no=101, gunluk_ucret=100)\n",
        "oda_102 = StandartOda(oda_no=102, gunluk_ucret=150)\n",
        "oda_201 = SuitOda(oda_no=201, gunluk_ucret=200, ekstra_ucret=50)\n",
        "\n",
        "otel = Otel()\n",
        "otel.oda_ekle(oda_101)\n",
        "otel.oda_ekle(oda_102)\n",
        "otel.oda_ekle(oda_201)\n",
        "\n",
        "kiralama_bilgileri = [\n",
        "    {'oda_no': 101, 'gun': 3},\n",
        "    {'oda_no': 102, 'gun': 2},\n",
        "    {'oda_no': 201, 'gun': 4, 'kisi': 3}\n",
        "]\n",
        "\n",
        "toplam_gelir = otel.toplam_gelir_hesapla(kiralama_bilgileri)\n",
        "print(f\"Otelin toplam geliri: {toplam_gelir} TL\")\n"
      ],
      "metadata": {
        "id": "hj7A4Dn_Zzxg",
        "colab": {
          "base_uri": "https://localhost:8080/"
        },
        "outputId": "44e4dfb6-e23b-4049-83be-298bf52c8312"
      },
      "execution_count": null,
      "outputs": [
        {
          "output_type": "stream",
          "name": "stdout",
          "text": [
            "Otelin toplam geliri: 1800 TL\n"
          ]
        }
      ]
    },
    {
      "cell_type": "code",
      "execution_count": null,
      "metadata": {
        "colab": {
          "base_uri": "https://localhost:8080/"
        },
        "id": "_BiJpg-NZx2k",
        "outputId": "a0f14a0d-6e66-4287-ac11-dbcdae19ae0c"
      },
      "outputs": [
        {
          "output_type": "stream",
          "name": "stdout",
          "text": [
            "Otelin toplam geliri: 3800 TL\n"
          ]
        }
      ],
      "source": [
        "# Odaları tanımlama\n",
        "\n",
        "# Otel oluşturma\n",
        "\n",
        "# Kiralama senaryosu\n",
        "\n",
        "# Toplam gelir hesaplama\n"
      ]
    }
  ]
}