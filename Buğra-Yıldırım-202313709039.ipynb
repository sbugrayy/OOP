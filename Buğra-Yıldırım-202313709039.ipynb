{
  "nbformat": 4,
  "nbformat_minor": 0,
  "metadata": {
    "colab": {
      "provenance": []
    },
    "kernelspec": {
      "name": "python3",
      "display_name": "Python 3"
    },
    "language_info": {
      "name": "python"
    }
  },
  "cells": [
    {
      "cell_type": "markdown",
      "source": [
        "# **Uygulama Sınav Yönergesi**\n",
        "\n",
        "*   ilk 5 soru 10 puan olup, son iki soru 25'er puandır.\n",
        "*   **Lütfen soruları bireysel çözünüz**, haliyle işin içerisinde algoritma olduğu için her sorunun birden fazla çözüm yolu bulunmaktadır. Nasıl yorumlayacağınız ve senaryoları nasıl kurgulayacağınız tamamen size aittir.\n",
        "*   Lütfen soruları cevaplamak için soruların altındaki hücreleri kullanınız, hücrelere ekleme veya çıkartma işlemi yapabilirsiniz. Hücre altlarındaki ekran çıktılarına dikkat ediniz, size uygulamanın akışı hakkında yardımcı olacaktır. Bazı sorular senaryo gereği temel programlama kodları olan **if, for ve listeleme** gibi yapılara sahip olacaktır.\n",
        "*   Son iki soruyu notebook üzerinde çözümünü yaptıktan sonra lütfen birebir olacak şekilde A4 kağıdında da çözünüz ve sınav gün ve saatinde bu kağıdı teslim etmeye geliniz. Sınav yoklama listesine imzanızı atmayı unutmayınız. Kağıda isminiz, soyisminiz ve öğrenci numaranızı yazmayı unutmayınız.\n",
        "*   **Yoklama listesine imza atmayan kişi, uygulamayı sisteme yüklemiş olsa dahi sınavı geçersiz sayılacaktır.**\n",
        "*   **IPYNB** notebook'unu sisteme yüklerken lütfen **isim-soyisim-ogrencino.ipynb** şeklinde isimlendiriniz.\n",
        "*   Ödevi sisteme yüklemek için son teslim tarihi 11.11.2024 23:59'dur Sınav süresi bittiğinde, sistemde dosya yükleme işlemi kapatılacak olup sistem haricinde    hiç bir şekilde\n",
        "başka bir platformdan dosyalar kabul edilmeyecektir.\n",
        "*   Sınav süresi boyunca aklınıza takılan soruları arşivlenmesi amacıyla teams yoluyla kabul edeceğim :\n",
        "sevdanur.genc@balikesir.edu.tr . Harici iletişim kanallarından gelen sorular kabul edilmeyecek ve\n",
        "herhangi bir geri dönüş yapılmayacaktır.\n",
        "\n",
        "Başarılar dilerim.  \n",
        "Dr. Öğr. Üyesi Sevdanur GENÇ\n",
        "\n",
        "\n",
        "\n",
        "\n"
      ],
      "metadata": {
        "id": "DEUgSjc2llc5"
      }
    },
    {
      "cell_type": "markdown",
      "source": [
        "**Soru 1:** Bir Calisan sınıfı oluşturun. Bu sınıfın her çalışan için ad, soyad ve maaş bilgilerini tutmasını sağlayın. Ayrıca, maaşı yüzde belirli bir oranda artırmak için maas_artir adında bir fonksiyon oluşturun.\n",
        "\n",
        "Cevap:"
      ],
      "metadata": {
        "id": "XX385bsThcc6"
      }
    },
    {
      "cell_type": "code",
      "execution_count": null,
      "metadata": {
        "id": "wFX_zz9xgMup",
        "colab": {
          "base_uri": "https://localhost:8080/"
        },
        "outputId": "d16739ae-2188-4be9-8bdd-ed9ce8449066"
      },
      "outputs": [
        {
          "output_type": "stream",
          "name": "stdout",
          "text": [
            "Ahmet Taş maaşı güncellendi: 11000.0 TL\n",
            "Ahmet Taş maaşı güncellendi: 12100.0 TL\n"
          ]
        }
      ],
      "source": [
        "class Calisan:\n",
        "  def __init__(self, ad, soyad, maas):\n",
        "    self.ad = ad\n",
        "    self.soyad = soyad\n",
        "    self.maas = maas\n",
        "  def maas_artir(self, yuzde):\n",
        "    self.maas += self.maas * (yuzde / 100)\n",
        "\n",
        "calisan1 = Calisan(\"Ahmet\", \"Taş\", 10000)\n",
        "\n",
        "calisan1.maas_artir(10)\n",
        "print(calisan1.ad, calisan1.soyad, \"maaşı güncellendi:\",calisan1.maas,\"TL\")\n",
        "\n",
        "calisan1.maas_artir(10)\n",
        "print(calisan1.ad, calisan1.soyad, \"maaşı güncellendi:\",calisan1.maas,\"TL\")"
      ]
    },
    {
      "cell_type": "code",
      "source": [],
      "metadata": {
        "colab": {
          "base_uri": "https://localhost:8080/"
        },
        "id": "kxnru684qx3L",
        "outputId": "3cc65834-7704-438c-faa5-7ee56cd48ef8"
      },
      "execution_count": null,
      "outputs": [
        {
          "output_type": "stream",
          "name": "stdout",
          "text": [
            "Ali Kaya maaşı güncellendi: 5500.0 TL\n"
          ]
        }
      ]
    },
    {
      "cell_type": "markdown",
      "source": [
        "**Soru 2:**  Bir alışveriş sepeti uygulaması için Urun ve Sepet adında iki sınıf tanımlayın. Urun sınıfı, ürün adı ve fiyatını içermelidir.\n",
        "Sepet sınıfı ise, sepete ürün eklemeli ve toplam tutarı hesaplamalıdır.\n",
        "\n",
        "Cevap:"
      ],
      "metadata": {
        "id": "BCB0AW5DhqZT"
      }
    },
    {
      "cell_type": "code",
      "source": [
        "class Urun:\n",
        "  def __init__(self, ad, fiyat):\n",
        "    self.ad = ad\n",
        "    self.fiyat = fiyat\n",
        "\n",
        "class Sepet:\n",
        "  def __init__(self):\n",
        "    self.urunler = []\n",
        "\n",
        "  def urun_ekle(self, urun):\n",
        "    self.urunler.append(urun)\n",
        "    print(f\"{urun.ad} sepete eklendi.\")\n",
        "\n",
        "  def toplam_fiyat(self):\n",
        "    toplam = 0\n",
        "    for urun in self.urunler:\n",
        "      toplam += urun.fiyat\n",
        "    print(f\"Toplam fiyat: {toplam} TL\")\n",
        "\n",
        "urun1 = Urun(\"Kalem\", 10)\n",
        "urun2 = Urun(\"Silgi\", 7)\n",
        "urun3 = Urun(\"Defter\", 15)\n",
        "\n",
        "sepet = Sepet()\n",
        "sepet.urun_ekle(urun1)\n",
        "sepet.urun_ekle(urun2)\n",
        "sepet.urun_ekle(urun3)\n",
        "sepet.toplam_fiyat()"
      ],
      "metadata": {
        "id": "MVFjJdRxhplh",
        "colab": {
          "base_uri": "https://localhost:8080/"
        },
        "outputId": "d4ac8501-93c5-43a9-8c74-9136232192eb"
      },
      "execution_count": null,
      "outputs": [
        {
          "output_type": "stream",
          "name": "stdout",
          "text": [
            "Kalem sepete eklendi.\n",
            "Silgi sepete eklendi.\n",
            "Defter sepete eklendi.\n",
            "Toplam fiyat: 32 TL\n"
          ]
        }
      ]
    },
    {
      "cell_type": "code",
      "source": [],
      "metadata": {
        "colab": {
          "base_uri": "https://localhost:8080/"
        },
        "id": "vOYzMS69hpuz",
        "outputId": "82006583-8e48-49f0-a953-a97b8198c182"
      },
      "execution_count": null,
      "outputs": [
        {
          "output_type": "stream",
          "name": "stdout",
          "text": [
            "Kitap sepete eklendi.\n",
            "Kalem sepete eklendi.\n",
            "Toplam tutar: 35 TL\n"
          ]
        }
      ]
    },
    {
      "cell_type": "markdown",
      "source": [
        "**Soru 3:** Bir öğrenci yönetim sistemi için Ogrenci ve Ders adlı iki sınıf oluşturun. Ogrenci sınıfı, öğrenci adı ve numarasını içermeli.\n",
        "Ders sınıfı, ders adı ve öğrenci listesini tutmalı, ogrenci_ekle fonksiyonuyla öğrenci ekleyebilmeli.\n",
        "\n",
        "Cevap:"
      ],
      "metadata": {
        "id": "5V_CfOkdiLrF"
      }
    },
    {
      "cell_type": "code",
      "source": [
        "class Ogrenci:\n",
        "  def __init__(self, ad, numara):\n",
        "    self.ad = ad\n",
        "    self.numara = numara\n",
        "\n",
        "class Ders:\n",
        "  def __init__(self, ad):\n",
        "    self.ad = ad\n",
        "    self.ogrenciler = []\n",
        "\n",
        "  def ogrenci_ekle(self, ogrenci):\n",
        "    self.ogrenciler.append(ogrenci)\n",
        "    print(f\"{ogrenci.ad} {self.ad} dersine eklendi.\")\n",
        "\n",
        "  def ogrenci_listesi(self):\n",
        "    print(f\"{self.ad} dersindeki öğrenciler:\")\n",
        "    for ogrenci in self.ogrenciler:\n",
        "      print(f\"- {ogrenci.ad}, No: {ogrenci.numara}\")\n",
        "\n",
        "ogr1 = Ogrenci(\"Arda\", 101)\n",
        "ogr2 = Ogrenci(\"Selim\", 102)\n",
        "\n",
        "ders = Ders(\"Fizik\")\n",
        "ders.ogrenci_ekle(ogr1)\n",
        "ders.ogrenci_ekle(ogr2)\n",
        "ders.ogrenci_listesi()"
      ],
      "metadata": {
        "id": "smThx9hHhpxL",
        "colab": {
          "base_uri": "https://localhost:8080/"
        },
        "outputId": "0261da62-7721-4499-9436-8a96562ddce6"
      },
      "execution_count": null,
      "outputs": [
        {
          "output_type": "stream",
          "name": "stdout",
          "text": [
            "Arda Fizik dersine eklendi.\n",
            "Selim Fizik dersine eklendi.\n",
            "Fizik dersindeki öğrenciler:\n",
            "- Arda, No: 101\n",
            "- Selim, No: 102\n"
          ]
        }
      ]
    },
    {
      "cell_type": "code",
      "source": [],
      "metadata": {
        "id": "cPlLTbVWhpz2"
      },
      "execution_count": null,
      "outputs": []
    },
    {
      "cell_type": "code",
      "source": [
        "# Kullanım\n",
        "ogrenci1 = Ogrenci(\"Ayşe\", 101)\n",
        "ogrenci2 = Ogrenci(\"Mehmet\", 102)\n",
        "\n",
        "ders = Ders(\"Matematik\")\n",
        "ders.ogrenci_ekle(ogrenci1)\n",
        "ders.ogrenci_ekle(ogrenci2)\n",
        "ders.ogrenci_listesi()"
      ],
      "metadata": {
        "colab": {
          "base_uri": "https://localhost:8080/"
        },
        "id": "aBBL_rQmhp2x",
        "outputId": "ce714c29-3f6c-4dcd-a0f6-3ea8d27f91ef"
      },
      "execution_count": null,
      "outputs": [
        {
          "output_type": "stream",
          "name": "stdout",
          "text": [
            "Ayşe Matematik dersine eklendi.\n",
            "Mehmet Matematik dersine eklendi.\n",
            "Matematik dersindeki öğrenciler:\n",
            "- Ayşe, No: 101\n",
            "- Mehmet, No: 102\n"
          ]
        }
      ]
    },
    {
      "cell_type": "markdown",
      "source": [
        "**Soru 4:** Bir otopark yönetim sistemi geliştirin. Arac sınıfı, aracın plakası ve marka bilgilerini içermelidir. Otopark sınıfı, park edilen araçları tutmalı, arac_park_et fonksiyonuyla araç park edebilmeli ve arac_listesi fonksiyonuyla park edilen araçları listeleyebilmelidir.\n",
        "\n",
        "Cevap:"
      ],
      "metadata": {
        "id": "pfuWwIF-ikP4"
      }
    },
    {
      "cell_type": "code",
      "source": [
        "class Arac:\n",
        "  def __init__(self,plaka,marka):\n",
        "    self.plaka = plaka\n",
        "    self.marka = marka\n",
        "\n",
        "class Otopark:\n",
        "  def __init__(self,araclar):\n",
        "    self.araclar = []\n",
        "\n",
        "  def arac_park_et(self, arac):\n",
        "    self.araclar.append(arac)\n",
        "    print(f\"{arac.plaka} plakalı {arac.marka} park edildi.\")\n",
        "\n",
        "  def arac_listesi(self):\n",
        "    print(\"Park edilen araçlar:\")\n",
        "    for arac in self.araclar:\n",
        "      print(f\"- Plaka: {arac.plaka}, Marka: {arac.marka}\")\n",
        "\n",
        "arac1 = Arac(\"40LA220\",\"Toyota\")\n",
        "arac2 = Arac(\"06PB386\",\"Honda\")\n",
        "\n",
        "otopark = Otopark([])\n",
        "otopark.arac_park_et(arac1)\n",
        "otopark.arac_park_et(arac2)\n",
        "otopark.arac_listesi()"
      ],
      "metadata": {
        "id": "nJd6Kf_ohp5K",
        "colab": {
          "base_uri": "https://localhost:8080/"
        },
        "outputId": "e436751c-725f-4ace-ac3a-920f8ed0ac59"
      },
      "execution_count": 5,
      "outputs": [
        {
          "output_type": "stream",
          "name": "stdout",
          "text": [
            "40LA220 plakalı Toyota park edildi.\n",
            "06PB386 plakalı Honda park edildi.\n",
            "Park edilen araçlar:\n",
            "- Plaka: 40LA220, Marka: Toyota\n",
            "- Plaka: 06PB386, Marka: Honda\n"
          ]
        }
      ]
    },
    {
      "cell_type": "code",
      "source": [],
      "metadata": {
        "colab": {
          "base_uri": "https://localhost:8080/"
        },
        "id": "mNToS898iuaS",
        "outputId": "0dd416b9-5d30-4578-9c39-5c92b6e496ba"
      },
      "execution_count": null,
      "outputs": [
        {
          "output_type": "stream",
          "name": "stdout",
          "text": [
            "34ABC123 plakalı Toyota park edildi.\n",
            "35XYZ789 plakalı Honda park edildi.\n",
            "Park edilen araçlar:\n",
            "- Plaka: 34ABC123, Marka: Toyota\n",
            "- Plaka: 35XYZ789, Marka: Honda\n"
          ]
        }
      ]
    },
    {
      "cell_type": "markdown",
      "source": [
        "**Soru 5:** Bir bankada hesap yönetim sistemi oluşturun. BankaHesabi sınıfı, hesap sahibinin adını ve bakiyesini tutmalı. para_yatir ve para_cek fonksiyonları ile hesap işlemlerini gerçekleştirin. Eğer bakiye yetersizse kullanıcıyı uyaran bir mesaj verin.\n",
        "\n",
        "Cevap:"
      ],
      "metadata": {
        "id": "KK3h1fVdi1-A"
      }
    },
    {
      "cell_type": "code",
      "source": [
        "class BankaHesabi:\n",
        "  def __init__(self,sahip,bakiye):\n",
        "    self.sahip = sahip\n",
        "    self.bakiye = bakiye\n",
        "\n",
        "  def para_yatir(self, miktar):\n",
        "    self.bakiye += miktar\n",
        "    print(f\"{miktar} TL para yatırıldı. Güncel bakiye: {self.bakiye} TL\")\n",
        "\n",
        "  def para_cek(self, miktar):\n",
        "    if self.bakiye >= miktar:\n",
        "      self.bakiye -= miktar\n",
        "      print(f\"{miktar} TL para çekildi. Güncel bakiye: {self.bakiye} TL\")\n",
        "    else:\n",
        "      print(f\"Yetersiz bakiye. Mevcut bakiye: {self.bakiye} TL\")\n",
        "\n",
        "hesap1 = BankaHesabi(\"Ahmet\", 5000)\n",
        "hesap1.para_yatir(500)\n",
        "hesap1.para_cek(1200)\n",
        "hesap1.para_cek(7000)"
      ],
      "metadata": {
        "id": "fB-FMVnEiucx",
        "colab": {
          "base_uri": "https://localhost:8080/"
        },
        "outputId": "7d527518-4c79-48ad-e70a-0a980abbb9af"
      },
      "execution_count": 8,
      "outputs": [
        {
          "output_type": "stream",
          "name": "stdout",
          "text": [
            "500 TL para yatırıldı. Güncel bakiye: 5500 TL\n",
            "1200 TL para çekildi. Güncel bakiye: 4300 TL\n",
            "Yetersiz bakiye. Mevcut bakiye: 4300 TL\n"
          ]
        }
      ]
    },
    {
      "cell_type": "code",
      "source": [
        "# Kullanım\n",
        "hesap1 = BankaHesabi(\"Zeynep\", 1000)\n",
        "                        # 200 TL yatırıldı. Güncel bakiye: 1200 TL\n",
        "                        # 500 TL çekildi. Güncel bakiye: 700 TL\n",
        "                        # Yetersiz bakiye. Mevcut bakiye: 700 TL"
      ],
      "metadata": {
        "colab": {
          "base_uri": "https://localhost:8080/"
        },
        "id": "hL_5gpxTiufW",
        "outputId": "4876925d-1277-41d2-930e-347092a1107b"
      },
      "execution_count": null,
      "outputs": [
        {
          "output_type": "stream",
          "name": "stdout",
          "text": [
            "200 TL yatırıldı. Güncel bakiye: 1200 TL\n",
            "500 TL çekildi. Güncel bakiye: 700 TL\n",
            "Yetersiz bakiye. Mevcut bakiye: 700 TL\n"
          ]
        }
      ]
    },
    {
      "cell_type": "markdown",
      "source": [
        "**Soru 6:** Bir kütüphane yönetim sistemi geliştirin. Bu sistemde, kitapları yönetmek ve üyelerin ödünç alıp verme işlemlerini takip etmek için Kitap ve Kutuphane adında iki sınıf oluşturun.\n",
        "\n",
        "Kitap sınıfı:\n",
        "*   Kitabın adını ve mevcut stok miktarını tutmalıdır.\n",
        "*   **stok_guncelle** adlı bir fonksiyonla stokları güncelleyebilmelidir.\n",
        "\n",
        "Kutuphane sınıfı:\n",
        "*   Birden fazla kitabı yönetmek için bir kitaplar listesi içermelidir.\n",
        "*   **kitap_ekle** fonksiyonuyla kütüphaneye yeni bir kitap ekleyebilmelidir.\n",
        "*   **odunc_al** fonksiyonuyla bir üyeye kitap ödünç vermelidir. Eğer kitap stokta yoksa, kullanıcıya uygun bir mesaj vermelidir.\n",
        "*   **geri_ver** fonksiyonuyla ödünç alınan bir kitabı geri almalıdır.\n",
        "*   **stok_goruntule** fonksiyonuyla kütüphanedeki kitapların mevcut stok durumunu listelemelidir.\n",
        "\n",
        "Cevap:"
      ],
      "metadata": {
        "id": "R3z0DTlKjKcP"
      }
    },
    {
      "cell_type": "code",
      "source": [
        "class Kitap:\n",
        "  def __init__(self, ad, stok):\n",
        "    self.ad = ad\n",
        "    self.stok = stok\n",
        "\n",
        "  def stok_guncelle(self, miktar):\n",
        "    self.stok += miktar\n",
        "\n",
        "\n",
        "class Kutuphane:\n",
        "  def __init__(self, kitaplar):\n",
        "    self.kitaplar = kitaplar\n",
        "\n",
        "  def kitap_ekle(self, kitap):\n",
        "    self.kitaplar.append(kitap)\n",
        "    print(f\"{kitap.ad} kütüphaneye eklendi.\")\n",
        "\n",
        "  def odunc_al(self, kitap_adı):\n",
        "    for kitap in self.kitaplar:\n",
        "      if kitap.ad == kitap_adı:\n",
        "        if kitap.stok > 0:\n",
        "          kitap.stok -= 1\n",
        "          print(f\"{kitap_adı} kitabı ödünç alındı. Kalan stok: {kitap.stok}\")\n",
        "        else:\n",
        "          print(f\"{kitap_adı} kitabı şu anda stokta yok.\")\n",
        "        return\n",
        "    print(f\"{kitap_adı} kitabı kütüphanede yok.\")\n",
        "\n",
        "  def geri_ver(self, kitap_adı):\n",
        "    for kitap in self.kitaplar:\n",
        "      if kitap.ad == kitap_adı:\n",
        "        kitap.stok += 1\n",
        "        print(f\"{kitap_adı} kitabı geri verildi. Güncel stok: {kitap.stok}\")\n",
        "        return\n",
        "    print(f\"{kitap_adı} kitabı kütüphanede yok.\")\n",
        "\n",
        "  def stok_goruntule(self):\n",
        "    print(\"Kütüphanedeki kitapların stok durumu:\")\n",
        "    for kitap in self.kitaplar:\n",
        "      print(f\"- {kitap.ad}: {kitap.stok} adet\")\n",
        "\n",
        "kitap1 = Kitap(\"Python Programlama\", 5)\n",
        "kitap2 = Kitap(\"Veri Yapıları\", 3)\n",
        "kitap3 = Kitap(\"Veritabanı Sistemleri\", 0)\n",
        "\n",
        "kutuphane = Kutuphane([])\n",
        "kutuphane.kitap_ekle(kitap1)\n",
        "kutuphane.kitap_ekle(kitap2)\n",
        "kutuphane.kitap_ekle(kitap3)\n",
        "kutuphane.stok_goruntule()\n",
        "\n",
        "kutuphane.odunc_al(\"Python Programlama\")\n",
        "kutuphane.odunc_al(\"Veri Yapıları\")\n",
        "kutuphane.odunc_al(\"Veritabanı Sistemleri\")\n",
        "kutuphane.geri_ver(\"Veri Yapıları\")\n",
        "kutuphane.stok_goruntule()\n",
        "\n",
        "kutuphane.odunc_al(\"Java Programlama\")\n",
        "kutuphane.geri_ver(\"C# Programlama\")"
      ],
      "metadata": {
        "id": "Pz4hHgWyiuhh",
        "colab": {
          "base_uri": "https://localhost:8080/"
        },
        "outputId": "73cd3ee8-b85e-4bee-f409-e3db89ad27bb"
      },
      "execution_count": 15,
      "outputs": [
        {
          "output_type": "stream",
          "name": "stdout",
          "text": [
            "Python Programlama kütüphaneye eklendi.\n",
            "Veri Yapıları kütüphaneye eklendi.\n",
            "Veritabanı Sistemleri kütüphaneye eklendi.\n",
            "Kütüphanedeki kitapların stok durumu:\n",
            "- Python Programlama: 5 adet\n",
            "- Veri Yapıları: 3 adet\n",
            "- Veritabanı Sistemleri: 0 adet\n",
            "Python Programlama kitabı ödünç alındı. Kalan stok: 4\n",
            "Veri Yapıları kitabı ödünç alındı. Kalan stok: 2\n",
            "Veritabanı Sistemleri kitabı şu anda stokta yok.\n",
            "Veri Yapıları kitabı geri verildi. Güncel stok: 3\n",
            "Kütüphanedeki kitapların stok durumu:\n",
            "- Python Programlama: 4 adet\n",
            "- Veri Yapıları: 3 adet\n",
            "- Veritabanı Sistemleri: 0 adet\n",
            "Java Programlama kitabı kütüphanede yok.\n",
            "C# Programlama kitabı kütüphanede yok.\n"
          ]
        }
      ]
    },
    {
      "cell_type": "code",
      "source": [],
      "metadata": {
        "colab": {
          "base_uri": "https://localhost:8080/"
        },
        "id": "j-RidKrxkJAe",
        "outputId": "30693d94-7345-40d6-deff-b36cb54886ff"
      },
      "execution_count": null,
      "outputs": [
        {
          "output_type": "stream",
          "name": "stdout",
          "text": [
            "Python Programlama kütüphaneye eklendi.\n",
            "Veri Bilimi kütüphaneye eklendi.\n",
            "Makine Öğrenimi kütüphaneye eklendi.\n"
          ]
        }
      ]
    },
    {
      "cell_type": "code",
      "source": [
        "# Stok durumunu görüntüle\n",
        "\n",
        "\n",
        "\n",
        "# Kitap ödünç alma işlemleri\n",
        "                                          # Stok: 4 olacak\n",
        "                                          # Stokta yok uyarısı verecek\n",
        "                                          # Stok: 2 olacak\n",
        "\n",
        "# Kitap geri verme işlemi\n",
        "\n",
        "                                          # Stok: 5 olacak\n",
        "\n",
        "# Güncel stok durumunu tekrar görüntüle\n",
        "\n"
      ],
      "metadata": {
        "colab": {
          "base_uri": "https://localhost:8080/"
        },
        "id": "uJQBz0ddkJCn",
        "outputId": "587bc42d-d079-4230-c66c-601efdc371c5"
      },
      "execution_count": null,
      "outputs": [
        {
          "output_type": "stream",
          "name": "stdout",
          "text": [
            "Kütüphanedeki kitapların stok durumu:\n",
            "- Python Programlama: 5 adet\n",
            "- Veri Bilimi: 3 adet\n",
            "- Makine Öğrenimi: 0 adet\n",
            "Python Programlama kitabı ödünç alındı. Kalan stok: 4\n",
            "Makine Öğrenimi kitabı şu anda stokta yok.\n",
            "Veri Bilimi kitabı ödünç alındı. Kalan stok: 2\n",
            "Python Programlama kitabı geri verildi. Güncel stok: 5\n",
            "Kütüphanedeki kitapların stok durumu:\n",
            "- Python Programlama: 5 adet\n",
            "- Veri Bilimi: 2 adet\n",
            "- Makine Öğrenimi: 0 adet\n"
          ]
        }
      ]
    },
    {
      "cell_type": "markdown",
      "source": [
        "**Soru 7:** Bir e-ticaret uygulaması için bir alışveriş sepeti yönetim sistemi geliştirin. Bu sistemde, ürünlerin ve sepetin yönetimini sağlayan iki ana sınıf olacak: Urun ve Sepet.\n",
        "\n",
        "İstenen İşlevler:\n",
        "\n",
        "Urun sınıfı:\n",
        "*   Her ürünün bir adı, fiyatı ve stok miktarı olmalıdır.\n",
        "*   Stok güncellemek için **stok_guncelle** adlı bir fonksiyon içermelidir.\n",
        "\n",
        "Sepet sınıfı:\n",
        "\n",
        "*   Bir urunler listesi içermelidir, bu listede kullanıcı tarafından sepete eklenen ürünler ve miktarları olmalıdır.\n",
        "*   **urun_ekle** fonksiyonuyla sepete yeni bir ürün ekleyebilmelidir. Eklenmek istenen miktar stoktan fazla ise uygun bir mesaj vermelidir.\n",
        "*   **urun_sil** fonksiyonuyla sepetten bir ürünü çıkarabilmelidir.\n",
        "*   **toplam_fiyat** fonksiyonuyla sepetteki tüm ürünlerin toplam fiyatını hesaplayıp döndürmelidir.\n",
        "*   **sepet_goruntule** fonksiyonuyla sepetteki ürünleri ve her birinin miktarını listelemelidir.\n",
        "\n",
        "Çözüm:"
      ],
      "metadata": {
        "id": "GO_HWM1ukupF"
      }
    },
    {
      "cell_type": "code",
      "source": [
        "class Urun:\n",
        "  def __init__(self, ad, fiyat, stok):\n",
        "    self.ad = ad\n",
        "    self.fiyat = fiyat\n",
        "    self.stok = stok\n",
        "\n",
        "  def stok_guncelle(self, miktar):\n",
        "    self.stok += miktar\n",
        "\n",
        "\n",
        "class Sepet:\n",
        "  def __init__(self):\n",
        "    self.urunler = []\n",
        "\n",
        "  def urun_ekle(self, urun, miktar):\n",
        "    if urun.stok >= miktar:\n",
        "      urun.stok -= miktar\n",
        "      self.urunler.append((urun, miktar))\n",
        "      print(f\"{miktar} adet {urun.ad} sepete eklendi.\")\n",
        "    else:\n",
        "      print(f\"{urun.ad} stokta yeterli değil. Mevcut stok: {urun.stok}\")\n",
        "\n",
        "  def urun_sil(self, urun, miktar):\n",
        "    for i in range(len(self.urunler)):\n",
        "      if self.urunler[i][0] == urun:\n",
        "        if self.urunler[i][1] >= miktar:\n",
        "          self.urunler[i] = (self.urunler[i][0], self.urunler[i][1] - miktar)\n",
        "          urun.stok += miktar\n",
        "          print(f\"{miktar} adet {urun.ad} sepetten çıkarıldı.\")\n",
        "          return\n",
        "        else:\n",
        "          print(f\"Sepette {urun.ad} ürünü yetersiz miktarda bulunmaktadır. Mevcut stok: {miktar}\")\n",
        "          return\n",
        "    print(f\"{urun.ad} sepetinde bulunmamaktadır.\")\n",
        "\n",
        "  def toplam_fiyat(self):\n",
        "    toplam = 0\n",
        "    for urun, miktar in self.urunler:\n",
        "      toplam += urun.fiyat * miktar\n",
        "    return toplam\n",
        "\n",
        "  def sepet_goruntule(self):\n",
        "    print(\"Sepetteki Ürünler:\")\n",
        "    for urun, miktar in self.urunler:\n",
        "      print(f\"- {urun.ad}: {miktar} adet, Fiyat: {urun.fiyat} TL\")\n",
        "\n",
        "urun1 = Urun(\"Laptop\", 25000, 10)\n",
        "urun2 = Urun(\"Telefon\", 17000, 5)\n",
        "urun3 = Urun(\"Kulaklık\", 1500, 15)\n",
        "\n",
        "sepet = Sepet()\n",
        "sepet.urun_ekle(urun1, 2)\n",
        "sepet.urun_ekle(urun2, 1)\n",
        "sepet.urun_ekle(urun3, 3)\n",
        "sepet.sepet_goruntule()\n",
        "sepet.urun_ekle(urun3, 20)\n",
        "\n",
        "sepet.urun_sil(urun2, 2)\n",
        "sepet.urun_sil(urun1, 1)\n",
        "sepet.sepet_goruntule()\n",
        "\n",
        "sepet.urun_sil(urun3, 0)\n",
        "sepet.sepet_goruntule()"
      ],
      "metadata": {
        "id": "9e6r4ku_lQki",
        "colab": {
          "base_uri": "https://localhost:8080/"
        },
        "outputId": "49a91ab5-a854-4c59-9109-7652765a38b4"
      },
      "execution_count": 24,
      "outputs": [
        {
          "output_type": "stream",
          "name": "stdout",
          "text": [
            "2 adet Laptop sepete eklendi.\n",
            "1 adet Telefon sepete eklendi.\n",
            "3 adet Kulaklık sepete eklendi.\n",
            "Sepetteki Ürünler:\n",
            "- Laptop: 2 adet, Fiyat: 25000 TL\n",
            "- Telefon: 1 adet, Fiyat: 17000 TL\n",
            "- Kulaklık: 3 adet, Fiyat: 1500 TL\n",
            "Kulaklık stokta yeterli değil. Mevcut stok: 12\n",
            "Sepette Telefon ürünü yetersiz miktarda bulunmaktadır. Mevcut stok: 2\n",
            "1 adet Laptop sepetten çıkarıldı.\n",
            "Sepetteki Ürünler:\n",
            "- Laptop: 1 adet, Fiyat: 25000 TL\n",
            "- Telefon: 1 adet, Fiyat: 17000 TL\n",
            "- Kulaklık: 3 adet, Fiyat: 1500 TL\n",
            "0 adet Kulaklık sepetten çıkarıldı.\n",
            "Sepetteki Ürünler:\n",
            "- Laptop: 1 adet, Fiyat: 25000 TL\n",
            "- Telefon: 1 adet, Fiyat: 17000 TL\n",
            "- Kulaklık: 3 adet, Fiyat: 1500 TL\n"
          ]
        }
      ]
    },
    {
      "cell_type": "code",
      "source": [
        "# Ürünleri oluşturalım\n",
        "\n",
        "\n",
        "\n",
        "# Sepeti oluşturalım\n",
        "\n",
        "\n"
      ],
      "metadata": {
        "id": "hFhcz0TplQwr"
      },
      "execution_count": null,
      "outputs": []
    },
    {
      "cell_type": "code",
      "source": [
        "# Ürünleri sepete ekleyelim\n",
        "                              # Bilgisayar eklenir\n",
        "                              # Telefon eklenir\n",
        "                              # Kulaklık eklenir\n",
        "                              # Yetersiz stok uyarısı verir\n",
        "\n",
        "# Sepeti görüntüleyelim\n",
        "\n"
      ],
      "metadata": {
        "colab": {
          "base_uri": "https://localhost:8080/"
        },
        "id": "kJxJsDt2lXyC",
        "outputId": "ab321075-2db1-4ce1-93e9-b21099c8a817"
      },
      "execution_count": null,
      "outputs": [
        {
          "output_type": "stream",
          "name": "stdout",
          "text": [
            "2 adet Bilgisayar sepete eklendi.\n",
            "1 adet Telefon sepete eklendi.\n",
            "3 adet Kulaklık sepete eklendi.\n",
            "Kulaklık stokta yeterli değil. Mevcut stok: 17\n",
            "Sepetinizdeki ürünler:\n",
            "- Bilgisayar: 2 adet, Fiyat: 15000 TL\n",
            "- Telefon: 1 adet, Fiyat: 8000 TL\n",
            "- Kulaklık: 3 adet, Fiyat: 500 TL\n",
            "Toplam Fiyat: 39500 TL\n"
          ]
        }
      ]
    },
    {
      "cell_type": "code",
      "source": [
        "# Sepetten bir ürün çıkaralım\n",
        "\n",
        "\n",
        "# Güncel sepet durumunu görüntüleyelim\n",
        "\n"
      ],
      "metadata": {
        "colab": {
          "base_uri": "https://localhost:8080/"
        },
        "id": "M1KMCx-1lad6",
        "outputId": "29b53e93-a550-4357-d317-8dd9ef8b3143"
      },
      "execution_count": null,
      "outputs": [
        {
          "output_type": "stream",
          "name": "stdout",
          "text": [
            "1 adet Telefon sepetten çıkarıldı.\n",
            "Sepetinizdeki ürünler:\n",
            "- Bilgisayar: 2 adet, Fiyat: 15000 TL\n",
            "- Kulaklık: 3 adet, Fiyat: 500 TL\n",
            "Toplam Fiyat: 31500 TL\n"
          ]
        }
      ]
    }
  ]
}